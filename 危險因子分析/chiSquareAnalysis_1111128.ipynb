{
  "nbformat": 4,
  "nbformat_minor": 0,
  "metadata": {
    "colab": {
      "provenance": []
    },
    "kernelspec": {
      "name": "python3",
      "display_name": "Python 3"
    },
    "language_info": {
      "name": "python"
    }
  },
  "cells": [
    {
      "cell_type": "code",
      "execution_count": 1,
      "metadata": {
        "colab": {
          "base_uri": "https://localhost:8080/"
        },
        "id": "1MgZHJ1QuQxg",
        "outputId": "cb3e8fd0-0708-4f03-e6b4-2f13c06c3a3f"
      },
      "outputs": [
        {
          "output_type": "stream",
          "name": "stdout",
          "text": [
            "(1415, 42)\n",
            "   age  gender  fever  tachy  tpnea  hypo  wound  sea  animal  farm   ...  \\\n",
            "0   64       0      0      0      0     1      1    1       1      1  ...   \n",
            "1   38       1      0      1      0     0      0    1       1      0  ...   \n",
            "2   43       1      1      1      0     0      1    1       0      0  ...   \n",
            "3   72       1      0      1      0     0      1    1       0      0  ...   \n",
            "4   42       1      0      0      0     0      0    1       0      0  ...   \n",
            "\n",
            "      crp   seg    hb    cr    k   alt  band  season  site  nf  \n",
            "0   26.38  91.5  13.5  1.57  3.0  38.0   8.0       S     L   1  \n",
            "1  174.27  83.0  16.3  0.80  3.7  34.0   2.0       S     U   1  \n",
            "2    1.94  60.0  13.6  1.36  5.2  33.0   2.0       S     L   1  \n",
            "3  191.54  88.8  14.0  1.06  4.4  39.0   0.0       S     U   1  \n",
            "4  137.31  79.5  10.4  2.47  3.5  20.0   7.0       S     U   1  \n",
            "\n",
            "[5 rows x 42 columns]\n"
          ]
        }
      ],
      "source": [
        "import pandas as pd\n",
        "import numpy as np\n",
        "import scipy.stats as stats\n",
        "#!pip install researchpy\n",
        "#import researchpy as rp\n",
        "\n",
        "df = pd.read_csv(\"NFdata1415.csv\")\n",
        "print(df.shape)\n",
        "print(df.head())"
      ]
    },
    {
      "cell_type": "code",
      "source": [
        "print(df[\"nf\"].value_counts())\n",
        "print(\"  \")\n",
        "\n",
        "nonNFCount, c_counter = df[df[\"nf\"]==0].shape\n",
        "print(\"nonNF record count = %d\" %nonNFCount)\n",
        "nfCount, c_counter = df[df[\"nf\"]==1].shape\n",
        "print(\"NF record count = %d\" %nfCount)\n",
        "print(\"  \")"
      ],
      "metadata": {
        "colab": {
          "base_uri": "https://localhost:8080/"
        },
        "id": "ZqFT2aV4dhUE",
        "outputId": "f5517f71-1f16-410f-8389-e94a40f56062"
      },
      "execution_count": 2,
      "outputs": [
        {
          "output_type": "stream",
          "name": "stdout",
          "text": [
            "0    1241\n",
            "1     174\n",
            "Name: nf, dtype: int64\n",
            "  \n",
            "nonNF record count = 1241\n",
            "NF record count = 174\n",
            "  \n"
          ]
        }
      ]
    },
    {
      "cell_type": "code",
      "source": [
        "# calculate the positive count and percentage of a nominal feature\n",
        "#nfCount2, c_counter = df[np.logical_and(df[\"nf\"]==1,df[\"fever\"]==1)].shape\n",
        "#nonNFCount2, c_counter = df[np.logical_and(df[\"nf\"]==0,df[\"fever\"]==1)].shape\n",
        "df2 = df[df[\"fever\"]==1]\n",
        "nfCount2, c_counter = df2[df2[\"nf\"]==1].shape\n",
        "nonNFCount2, c_counter = df2[df2[\"nf\"]==0].shape\n",
        "nfPercent2=nfCount2*100/nfCount\n",
        "nonNFPercent2=nonNFCount2*100/nonNFCount\n",
        "print(\"NF/nonNF fever positive count(percent) = %d (%.1f%%) / %d (%.1f%%)\" %(nfCount2,nfPercent2,nonNFCount2,nonNFPercent2))"
      ],
      "metadata": {
        "colab": {
          "base_uri": "https://localhost:8080/"
        },
        "id": "VUzp3orgu-Nf",
        "outputId": "60c56ce9-cbbc-4aeb-e20c-8a3031d15015"
      },
      "execution_count": 3,
      "outputs": [
        {
          "output_type": "stream",
          "name": "stdout",
          "text": [
            "NF/nonNF fever positive count(percent) = 47 (27.0%) / 170 (13.7%)\n"
          ]
        }
      ]
    },
    {
      "cell_type": "code",
      "source": [
        "nonNFCount, c_counter = df[df[\"nf\"]==0].shape\n",
        "nfCount, c_counter = df[df[\"nf\"]==1].shape\n",
        "column_headers = list(df.columns)\n",
        "for i in range(1,28):\n",
        "  df2 = df[df[column_headers[i]]==1]\n",
        "  nfCount2, c_counter = df2[df2[\"nf\"]==1].shape\n",
        "  nonNFCount2, c_counter = df2[df2[\"nf\"]==0].shape\n",
        "  nfPercent2=nfCount2*100/nfCount\n",
        "  nonNFPercent2=nonNFCount2*100/nonNFCount\n",
        "  print(\"NF/nonNF %s positive count(percent) = %d (%.1f%%) / %d (%.1f%%)\" %(column_headers[i],nfCount2,nfPercent2,nonNFCount2,nonNFPercent2))"
      ],
      "metadata": {
        "colab": {
          "base_uri": "https://localhost:8080/"
        },
        "id": "4irxSZjQsB8Y",
        "outputId": "87be40c8-997a-4ab5-a041-7dda349eb86b"
      },
      "execution_count": 4,
      "outputs": [
        {
          "output_type": "stream",
          "name": "stdout",
          "text": [
            "NF/nonNF gender positive count(percent) = 115 (66.1%) / 785 (63.3%)\n",
            "NF/nonNF fever positive count(percent) = 47 (27.0%) / 170 (13.7%)\n",
            "NF/nonNF tachy positive count(percent) = 87 (50.0%) / 367 (29.6%)\n",
            "NF/nonNF tpnea positive count(percent) = 18 (10.3%) / 72 (5.8%)\n",
            "NF/nonNF hypo positive count(percent) = 28 (16.1%) / 20 (1.6%)\n",
            "NF/nonNF wound positive count(percent) = 77 (44.3%) / 677 (54.6%)\n",
            "NF/nonNF sea positive count(percent) = 67 (38.5%) / 185 (14.9%)\n",
            "NF/nonNF animal positive count(percent) = 48 (27.6%) / 92 (7.4%)\n",
            "NF/nonNF farm  positive count(percent) = 37 (21.3%) / 187 (15.1%)\n",
            "NF/nonNF rash positive count(percent) = 159 (91.4%) / 1164 (93.8%)\n",
            "NF/nonNF warm positive count(percent) = 169 (97.1%) / 1169 (94.2%)\n",
            "NF/nonNF Hbullae positive count(percent) = 31 (17.8%) / 26 (2.1%)\n",
            "NF/nonNF anes positive count(percent) = 55 (31.6%) / 268 (21.6%)\n",
            "NF/nonNF necro positive count(percent) = 13 (7.5%) / 100 (8.1%)\n",
            "NF/nonNF pain positive count(percent) = 166 (95.4%) / 1100 (88.6%)\n",
            "NF/nonNF Swell positive count(percent) = 171 (98.3%) / 1185 (95.5%)\n",
            "NF/nonNF Sbullae positive count(percent) = 33 (19.0%) / 94 (7.6%)\n",
            "NF/nonNF crep positive count(percent) = 2 (1.1%) / 0 (0.0%)\n",
            "NF/nonNF dm positive count(percent) = 74 (42.5%) / 538 (43.4%)\n",
            "NF/nonNF hepa positive count(percent) = 69 (39.7%) / 304 (24.5%)\n",
            "NF/nonNF ckd positive count(percent) = 42 (24.1%) / 310 (25.0%)\n",
            "NF/nonNF cancer positive count(percent) = 26 (14.9%) / 138 (11.1%)\n",
            "NF/nonNF alco positive count(percent) = 41 (23.6%) / 142 (11.4%)\n",
            "NF/nonNF htn positive count(percent) = 104 (59.8%) / 688 (55.4%)\n",
            "NF/nonNF lc positive count(percent) = 32 (18.4%) / 126 (10.2%)\n",
            "NF/nonNF ai positive count(percent) = 10 (5.7%) / 43 (3.5%)\n",
            "NF/nonNF paod positive count(percent) = 5 (2.9%) / 97 (7.8%)\n"
          ]
        }
      ]
    },
    {
      "cell_type": "code",
      "source": [
        "crosstab = pd.crosstab(df[\"site\"],df[\"nf\"])\n",
        "print(crosstab)\n",
        "print(\"  \")\n",
        "\n",
        "crosstab, p_value, degFreedom, expected = stats.chi2_contingency(crosstab)\n",
        "print(\"p-value = %8f\" %p_value)\n",
        "#print(expected)"
      ],
      "metadata": {
        "colab": {
          "base_uri": "https://localhost:8080/"
        },
        "id": "pjRI_PoRyvVY",
        "outputId": "00e78c3c-094b-45e0-a399-be51b731a40c"
      },
      "execution_count": 8,
      "outputs": [
        {
          "output_type": "stream",
          "name": "stdout",
          "text": [
            "nf      0    1\n",
            "site          \n",
            "D      15    1\n",
            "L     974  108\n",
            "U     252   65\n",
            "  \n",
            "p-value = 0.000003\n"
          ]
        }
      ]
    },
    {
      "cell_type": "code",
      "source": [
        "crosstab = pd.crosstab(df[\"season\"],df[\"nf\"])\n",
        "print(crosstab)\n",
        "crosstab, p_value, degFreedom, expected = stats.chi2_contingency(crosstab)\n",
        "print(\"  \")\n",
        "print(\"p-value = %.8f\" %p_value)"
      ],
      "metadata": {
        "colab": {
          "base_uri": "https://localhost:8080/"
        },
        "id": "66hSTOE-6x64",
        "outputId": "490047cb-1ab0-40f9-8bb0-a875f29f442e"
      },
      "execution_count": 9,
      "outputs": [
        {
          "output_type": "stream",
          "name": "stdout",
          "text": [
            "nf        0   1\n",
            "season         \n",
            "F       296  52\n",
            "H       402  65\n",
            "S       332  38\n",
            "W       211  19\n",
            "  \n",
            "p-value = 0.04055701\n"
          ]
        }
      ]
    },
    {
      "cell_type": "code",
      "source": [
        "column_headers = list(df.columns)\n",
        "for i in range(1,28):\n",
        "  #print(column_headers[i])\n",
        "  crosstab = pd.crosstab(df[column_headers[i]],df[\"nf\"])\n",
        "  #print(crosstab)\n",
        "  crosstab, p_value, degFreedom, expected = stats.chi2_contingency(crosstab)\n",
        "  #print(\"  \")\n",
        "  print(\"%s p-value = %.8f\" %(column_headers[i],p_value))\n",
        "  #print(\"  \")\n",
        " "
      ],
      "metadata": {
        "colab": {
          "base_uri": "https://localhost:8080/"
        },
        "id": "xwPpqYsht_Av",
        "outputId": "afd25ef0-95b6-4cfb-a93a-ad458dd4fc65"
      },
      "execution_count": 7,
      "outputs": [
        {
          "output_type": "stream",
          "name": "stdout",
          "text": [
            "gender p-value = 0.51947361\n",
            "fever p-value = 0.00000852\n",
            "tachy p-value = 0.00000010\n",
            "tpnea p-value = 0.03286097\n",
            "hypo p-value = 0.00000000\n",
            "wound p-value = 0.01354378\n",
            "sea p-value = 0.00000000\n",
            "animal p-value = 0.00000000\n",
            "farm  p-value = 0.04704013\n",
            "rash p-value = 0.29540471\n",
            "warm p-value = 0.15670920\n",
            "Hbullae p-value = 0.00000000\n",
            "anes p-value = 0.00436034\n",
            "necro p-value = 0.90600497\n",
            "pain p-value = 0.00958498\n",
            "Swell p-value = 0.12833602\n",
            "Sbullae p-value = 0.00000174\n",
            "crep p-value = 0.00688950\n",
            "dm p-value = 0.90162018\n",
            "hepa p-value = 0.00003205\n",
            "ckd p-value = 0.88316382\n",
            "cancer p-value = 0.17743599\n",
            "alco p-value = 0.00001415\n",
            "htn p-value = 0.31914804\n",
            "lc p-value = 0.00191846\n",
            "ai p-value = 0.20351049\n",
            "paod p-value = 0.02749838\n"
          ]
        }
      ]
    }
  ]
}